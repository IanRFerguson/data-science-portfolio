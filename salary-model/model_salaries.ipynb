{
 "cells": [
  {
   "cell_type": "markdown",
   "id": "25e5e23d",
   "metadata": {},
   "source": [
    "# NBA Player Value\n",
    "\n",
    "This notebook seeks to model NBA player salaries by identifying valuable performance statistics that are predictive of monetary value (at least in the eyes of NBA general managers)"
   ]
  },
  {
   "cell_type": "code",
   "execution_count": null,
   "id": "13f6498f",
   "metadata": {},
   "outputs": [],
   "source": [
    "# Imports + Setup\n",
    "library(tidyverse)\n",
    "library(MASS)\n",
    "library(kableExtra)"
   ]
  },
  {
   "cell_type": "code",
   "execution_count": null,
   "id": "d71f2cb5",
   "metadata": {},
   "outputs": [],
   "source": [
    "# Read in CSV from .py script\n",
    "nba <- read_csv(\"./stats_and_salaires.csv\")                               \n",
    "\n",
    "# Custom histogram function\n",
    "fastHistogram <- function(FEAT, NAME, BINS=30) {\n",
    "        nba %>% ggplot(aes(x = scale(FEAT))) +\n",
    "                geom_histogram(color=\"white\", bins = BINS, fill=\"royalblue4\", alpha=0.92) +\n",
    "                labs(x = paste(\"Scaled Feature: \", NAME), y = \"\") +\n",
    "                theme_minimal()\n",
    "}"
   ]
  },
  {
   "cell_type": "code",
   "execution_count": null,
   "id": "b6217dc3",
   "metadata": {},
   "outputs": [],
   "source": [
    "head(nba)"
   ]
  },
  {
   "cell_type": "markdown",
   "id": "ddcf1386",
   "metadata": {},
   "source": [
    "-----------\n",
    "\n",
    "## Data Cleaning + Transformation\n",
    "\n",
    "* We'll convert the Salary feature to a numeric value by stripping the leading **$ sign**\n",
    "\n",
    "* **Points Per Minute** and **Assists Per Minute** can be considered proxies for a player's relative offensive impact on the floor"
   ]
  },
  {
   "cell_type": "code",
   "execution_count": null,
   "id": "804b90ee",
   "metadata": {},
   "outputs": [],
   "source": [
    "nba$Salary <- as.numeric(gsub(\"[\\\\$,]\", \"\", nba$Salary))        # Convert salary to int value\n",
    "\n",
    "nba <- nba %>% \n",
    "        mutate(\"PPM\" = PTS / MP, \"APM\" = AST/MP)                # Calculate Points and Assists / Minute\n",
    "        \n",
    "\n",
    "# Numeric variables only\n",
    "nba.reduced <- nba %>% \n",
    "        dplyr::select(!c(\"Rk\", \"Player\", \"Tm\", \"Pos\")) %>% \n",
    "        na.omit()\n",
    "\n",
    "\n",
    "nba  %>% arrange(desc(Salary))  %>% head()"
   ]
  },
  {
   "cell_type": "code",
   "execution_count": null,
   "id": "bdc8012f",
   "metadata": {},
   "outputs": [],
   "source": [
    "# Plot Age distribution\n",
    "fastHistogram(nba$Age, \"Age%\", 25)"
   ]
  },
  {
   "cell_type": "markdown",
   "id": "4258d230",
   "metadata": {},
   "source": [
    "After scaling `Age`, it’s evident that this distribution is slightly right-skewed (in other words, the majority of the data falls below the mean). We’ll attempt to log-transform this variable to approximate normality, though if the transformation yields any infinite values, we won’t be able to effectively perform the log-transform."
   ]
  },
  {
   "cell_type": "code",
   "execution_count": null,
   "id": "f875a3cc",
   "metadata": {},
   "outputs": [],
   "source": [
    "# Plot 3P%\n",
    "fastHistogram(nba$`3P%`, \"3-Point %\", 40)"
   ]
  },
  {
   "cell_type": "markdown",
   "id": "e8835a1b",
   "metadata": {},
   "source": [
    "`3-Point%` is slightly left-skewed, and seems to have several severe outliers. This most likely represents low-volume shooters (for example, players that take and make one 3-pointer would be an extreme outlier). We likely will not need to transform this variable, as a log-transformation will not impact the extreme positive outliers observed here. "
   ]
  },
  {
   "cell_type": "code",
   "execution_count": null,
   "id": "aa766fce",
   "metadata": {},
   "outputs": [],
   "source": [
    "# Plot salary distribution\n",
    "fastHistogram(nba$Salary, \"Salary\", 65)"
   ]
  },
  {
   "cell_type": "markdown",
   "id": "2846550d",
   "metadata": {},
   "source": [
    "Salary is observed to be **massively right-skewed**, such that the majority of observations are less than the mean average of the total distribution. There are noticeable outliers in this distribution, with several observations 3 or more standard deviations from the mean. This is a good indicator that, to obtain a robust result, we’ll need to log-transform player salaries in our linear model. "
   ]
  },
  {
   "cell_type": "markdown",
   "id": "f3696a81",
   "metadata": {},
   "source": [
    "----------\n",
    "\n",
    "## Modeling\n",
    "\n",
    "This first model will include **all numeric features**"
   ]
  },
  {
   "cell_type": "code",
   "execution_count": null,
   "id": "eec9d47c",
   "metadata": {},
   "outputs": [],
   "source": [
    "base.model <- lm(log(Salary) ~ ., data = nba.reduced)              # Build model with all features\n",
    "summary(base.model)"
   ]
  },
  {
   "cell_type": "markdown",
   "id": "bd8b7696",
   "metadata": {},
   "source": [
    "The **coefficients** in the base model appear to be weakly predictive, at best. This is due in part to the combination of variables. To yield a better, more predictive model, we’re going to employ **AIC Stepwise Variable Selection** to incorporate different combinations of variables, with our final model containing the most robust set of predictors. "
   ]
  },
  {
   "cell_type": "code",
   "execution_count": null,
   "id": "cb43b16c",
   "metadata": {},
   "outputs": [],
   "source": [
    "# Log-transform points and 2-point attempts\n",
    "base.model <- stats::update(base.model, . ~ . -PTS +log(PTS) -`2PA` +log(`2PA`))\n",
    "\n",
    "# Select optimal variables via AIC stepwise selection\n",
    "step.model <- MASS::stepAIC(base.model, \n",
    "                            direction = \"both\",\n",
    "                            k = 2,\n",
    "                            trace = F, \n",
    "                            steps = 1000)\n",
    "\n",
    "summary(step.model)"
   ]
  },
  {
   "cell_type": "markdown",
   "id": "00720f59",
   "metadata": {},
   "source": [
    "Our AIC selection algorithm yields an interesting set of predictors. We observe an R-squared value of 0.4414; put simply, our model accounts for **44.14% of the variance in player salary**. Considering the swath of variance that we can’t account for given the present data (injury, market value, salary cap, etc.) this is actually pretty decent! Let’s apply this finished model to our full dataset to see how teams and players fare. "
   ]
  },
  {
   "cell_type": "markdown",
   "id": "bb48eda3",
   "metadata": {},
   "source": [
    "-----------\n",
    "\n",
    "## Predictions\n",
    "\n",
    "Now that we have an optimized model, let’s apply it to our data. This will give us a `PREDICTIONS` column, which represents an estimation of what each player should be paid based on their individual stat lines."
   ]
  },
  {
   "cell_type": "code",
   "execution_count": null,
   "id": "73d1953b",
   "metadata": {},
   "outputs": [],
   "source": [
    "# Predict salaries with our optimal model\n",
    "nba[\"PREDICTIONS\"] <- exp(predict(step.model, nba))\n",
    "\n",
    "\n",
    "# Define custom X + Y labels\n",
    "x_labels <- c(\"$0\", \"$10M\", \"$20M\", \"$30M\", \"$40M\")\n",
    "y_labels <- c(\"$0\", \"$20M\", \"$40M\", \"$60M\")\n",
    "\n",
    "\n",
    "# Plot actual vs. predicted salaries\n",
    "salary.plot <- nba %>%\n",
    "                        mutate(phase = ifelse(Salary > PREDICTIONS, 'Overpaid', 'Underpaid'))  %>% \n",
    "                        ggplot(aes(x = Salary, y = PREDICTIONS)) +\n",
    "                        geom_smooth(color=\"white\", alpha=0.65) +\n",
    "                        geom_point(alpha=0.65, size=(nba$MP / 400), aes(color=phase)) +\n",
    "                        theme_minimal() +\n",
    "                        labs(x = \"Actual Salary\", \n",
    "                             y = \"Predicted Salary\",\n",
    "                             title = \"Salary Prediction Model\",\n",
    "                             subtitle = \"Size = Minutes Played\",\n",
    "                             color = \"\") +\n",
    "                        theme(plot.title = element_text(hjust = 0.5, face=\"bold\"),\n",
    "                              plot.subtitle = element_text(hjust = 0.5)) +\n",
    "        scale_x_continuous(labels = x_labels) + scale_y_continuous(labels = y_labels) +\n",
    "        scale_color_brewer(palette='Set1') + \n",
    "        theme(axis.text.x = element_text(hjust = 1),\n",
    "              axis.text.y = element_text(vjust = -1))\n",
    "\n",
    "\n",
    "salary.plot"
   ]
  },
  {
   "cell_type": "markdown",
   "id": "b0d69a4d",
   "metadata": {},
   "source": [
    "We observe a moderately close fit between the the observed data points and the line of best fit in this plot. While there appears to be a general trend of points scored correlating with salary, this model seems to inflate player salaries slightly, such that players’ predicted salaries tend to be higher than their actual salaries. This is most likely due to the lack of control parameters built in to this model (for example, salary cap is not enforced in this environment, which provides no ceiling for the model to work under)."
   ]
  },
  {
   "cell_type": "markdown",
   "id": "cece7809",
   "metadata": {},
   "source": [
    "-----------\n",
    "\n",
    "# Determining Player Value\n",
    "\n",
    "*How will this work?*\n",
    "\n",
    "Using the predicted values from our model, we’ll calculate the differential from actual salaries to create a `Salary.Differential` variable. If this variable is positive - i.e., the predicted salary is higher than the actual salary - we may assert that this player is **underpaid**. Conversely, if the predicted salary is lower than the actual salary, it would suggest that the player is **overpaid**."
   ]
  },
  {
   "cell_type": "code",
   "execution_count": null,
   "id": "4b196b4b",
   "metadata": {},
   "outputs": [],
   "source": [
    "nba <- nba %>%\n",
    "        mutate(\"Salary.Differntial\" = PREDICTIONS - Salary,\n",
    "               \"Overpaid\" = ifelse(Salary.Differntial < 0, \"Overpaid\", \"Underpaid\"))\n",
    "\n",
    "\n",
    "nba %>% \n",
    "        dplyr::filter(Overpaid != \"NA\") %>% \n",
    "        ggplot(aes(x = Overpaid, fill=Overpaid)) +\n",
    "        geom_bar(color=\"white\", alpha=0.85) +\n",
    "        labs(x = \"Salary Differential\", \n",
    "             y =\"\",\n",
    "             title = \"Salary Differential\") +\n",
    "        theme_minimal() +\n",
    "        theme(legend.position = \"none\",\n",
    "              axis.title.x = element_blank(),\n",
    "              axis.text.x = element_text(face=\"bold\"),\n",
    "              plot.title = element_text(face = \"bold\", hjust = 0.5)) +\n",
    "        scale_fill_manual(values = c(\"royalblue4\", \"dodgerblue3\"))"
   ]
  },
  {
   "cell_type": "markdown",
   "id": "1e8c3d52",
   "metadata": {},
   "source": [
    "---------\n",
    "\n",
    "## Underpaid Players\n",
    "\n",
    "First, let’s look at players whose projected salaries are **higher** than what they are actually paid. We’ll consider these players **underpaid**:"
   ]
  },
  {
   "cell_type": "code",
   "execution_count": null,
   "id": "bd638713",
   "metadata": {},
   "outputs": [],
   "source": [
    "nba %>%\n",
    "        dplyr::select(Player, Age, Salary, PREDICTIONS, Salary.Differntial) %>% \n",
    "        arrange(desc(Salary.Differntial)) %>% \n",
    "        head(10)"
   ]
  },
  {
   "cell_type": "markdown",
   "id": "4f8c68c0",
   "metadata": {},
   "source": [
    "**Obvious points**: You can’t overpay LeBron James. Whatever the league will allow you to pay him, pay him 150% of that. Similarly, the other players on this list include Luka, Siakam, and Bam Adebayo - in other words, young players who either haven’t hit the bank yet or are playing above their value.\n",
    "\n",
    "\n",
    "\n",
    "**Less obvious**: Carmelo’s inclusion on this list. Our model indicates that his stat line should have put him around the `$16M / year` range. His actual salary is relatively modest in comparison, which makes him a bit of a bargain."
   ]
  },
  {
   "cell_type": "markdown",
   "id": "ae4f48ed",
   "metadata": {},
   "source": [
    "----------\n",
    "\n",
    "## Overpaid Players\n",
    "\n",
    "Here we’ll take the opposite approach, and explore players whose predicted salaries are less than their actual salaries. We’ll filter out **Steph Curry** since he was injured all year and makes lots of money. An outlier if ever there was one"
   ]
  },
  {
   "cell_type": "code",
   "execution_count": null,
   "id": "2d1e50ab",
   "metadata": {},
   "outputs": [],
   "source": [
    "nba %>%\n",
    "        dplyr::select(Player, Age, Salary, PREDICTIONS, Salary.Differntial) %>% \n",
    "        dplyr::filter(Player != \"Stephen Curry\") %>% \n",
    "        arrange((Salary.Differntial)) %>% \n",
    "        head(10)"
   ]
  },
  {
   "cell_type": "markdown",
   "id": "0ceea090",
   "metadata": {},
   "source": [
    "**Obvious points**: Relative to the underpaid player list, the majority of these players are in their late 20’s and early 30’s. This point is twofold - older players are more likely to have higher salaries (i.e., non-rookie deals), and older players are generally less likely to have robust stat lines relative to younger players (see: Blake Griffin on both accounts).\n",
    "\n",
    "\n",
    "\n",
    "**Less obvious**: Westbrook (57 games played) and Kyrie (20 games played). The Westbrook outcome is especially interesting - it’d be interesting to approach this question slightly differently, to see how Westbrook stacks up in years that he plays the full season. He’s a former MVP, but he can easily drop to a below-average player at times. Surely this has been quantified by other researchers, but still worth a shot!"
   ]
  },
  {
   "cell_type": "markdown",
   "id": "215a84ca",
   "metadata": {},
   "source": [
    "---------\n",
    "\n",
    "## Team Cap Management\n",
    "\n",
    "Lastly, let’s track how teams look overall - how many of their players are **overpaid** and how many of their teams are **underpaid**. We’ll calculate the percentage of each roster that is made up of overpaid players, then we’ll observe the “bottom 10” - i.e., the 10 teams that have the highest percentage of overpaid players."
   ]
  },
  {
   "cell_type": "code",
   "execution_count": null,
   "id": "1235367e",
   "metadata": {},
   "outputs": [],
   "source": [
    "nba %>% \n",
    "        group_by(Tm) %>% \n",
    "        filter(Tm != \"TOT\") %>% \n",
    "        summarise(Players = n(),\n",
    "                  Underpaid.Players = sum(Overpaid == \"Underpaid\", na.rm = T),\n",
    "                  Overpaid.Players = sum(Overpaid == \"Overpaid\", na.rm = T),\n",
    "                  Pct.Overpaid = (Overpaid.Players / Players)) %>% \n",
    "        head(10) %>% \n",
    "        arrange(desc(Pct.Overpaid))"
   ]
  },
  {
   "cell_type": "markdown",
   "id": "cdf6ce41",
   "metadata": {},
   "source": [
    "Seems to be a bit of a mixed bag, just by the eye test. Of the bottom-10 teams with a high-percentage of overpaid players, some of them are competitive - Dallas, Boston, Denver - while others are competing for the lottery every year (such as Cleveland and Detroit). Intuitively, it seems like it’s more important to pay the right players, even if those players are large cap expenditures.\n",
    "\n",
    "\n",
    "\n",
    "Dallas is a good example of this, as they’re able to get amazing output from Luka while only paying him ~$7M annually."
   ]
  },
  {
   "cell_type": "code",
   "execution_count": null,
   "id": "5b87e34b",
   "metadata": {},
   "outputs": [],
   "source": [
    "nba %>% \n",
    "        dplyr::filter(Tm == \"DAL\") %>% \n",
    "        dplyr::select(Player, Age, Pos, Salary) %>% \n",
    "        arrange(desc(Salary)) %>% head(5)"
   ]
  },
  {
   "cell_type": "markdown",
   "id": "3ecc284b",
   "metadata": {},
   "source": [
    "--------\n",
    "\n",
    "# Future Directions\n",
    "\n",
    "* Calculate the correlation between “overpaid player percentage” and win total in the regular season\n",
    "\n",
    "* Fix the dataset to minimize `NA` values in the model (and, in turn, yield a higher R-squared value)\n",
    "\n",
    "\n",
    "<img src=\"https://media.newyorker.com/photos/60b10421d60710aaa9f4959a/master/pass/RH-SpikeLee-2560.png\" width=50%>"
   ]
  }
 ],
 "metadata": {
  "kernelspec": {
   "display_name": "R",
   "language": "R",
   "name": "ir"
  },
  "language_info": {
   "codemirror_mode": "r",
   "file_extension": ".r",
   "mimetype": "text/x-r-source",
   "name": "R",
   "pygments_lexer": "r",
   "version": "3.5.2"
  }
 },
 "nbformat": 4,
 "nbformat_minor": 5
}
